{
  "nbformat": 4,
  "nbformat_minor": 0,
  "metadata": {
    "colab": {
      "name": "Air Passengers.ipynb",
      "provenance": []
    },
    "kernelspec": {
      "name": "python3",
      "display_name": "Python 3"
    }
  },
  "cells": [
    {
      "cell_type": "code",
      "metadata": {
        "id": "779w32wBAusp"
      },
      "source": [
        "import numpy as np\n",
        "import matplotlib.pyplot as plt\n",
        "import pandas as pd\n"
      ],
      "execution_count": 1,
      "outputs": []
    },
    {
      "cell_type": "code",
      "metadata": {
        "id": "09vaO6CGBSMg"
      },
      "source": [
        "df = pd.read_csv('AirPassengers.csv',usecols=[1]).values"
      ],
      "execution_count": 2,
      "outputs": []
    },
    {
      "cell_type": "code",
      "metadata": {
        "id": "qBspTnW4Beba",
        "outputId": "6f2d4d35-596e-442a-d696-a5bc1b6cdec7",
        "colab": {
          "base_uri": "https://localhost:8080/"
        }
      },
      "source": [
        "df[:5]"
      ],
      "execution_count": 3,
      "outputs": [
        {
          "output_type": "execute_result",
          "data": {
            "text/plain": [
              "array([[112],\n",
              "       [118],\n",
              "       [132],\n",
              "       [129],\n",
              "       [121]])"
            ]
          },
          "metadata": {
            "tags": []
          },
          "execution_count": 3
        }
      ]
    },
    {
      "cell_type": "code",
      "metadata": {
        "id": "WlVsX66eBfln",
        "outputId": "49aec54c-ec6f-4686-dfbc-d3f535eb9272",
        "colab": {
          "base_uri": "https://localhost:8080/"
        }
      },
      "source": [
        "df.shape"
      ],
      "execution_count": 4,
      "outputs": [
        {
          "output_type": "execute_result",
          "data": {
            "text/plain": [
              "(144, 1)"
            ]
          },
          "metadata": {
            "tags": []
          },
          "execution_count": 4
        }
      ]
    },
    {
      "cell_type": "code",
      "metadata": {
        "id": "GCTip0eiBjqw",
        "outputId": "ae83bf52-cdfb-4df6-acf2-eeaec82af70a",
        "colab": {
          "base_uri": "https://localhost:8080/"
        }
      },
      "source": [
        "df = df.reshape(-1)\n",
        "print(df.shape)"
      ],
      "execution_count": 5,
      "outputs": [
        {
          "output_type": "stream",
          "text": [
            "(144,)\n"
          ],
          "name": "stdout"
        }
      ]
    },
    {
      "cell_type": "code",
      "metadata": {
        "id": "vmabpWheBn0a",
        "outputId": "a8c7cd2a-09df-4c8f-fe8b-10a712d41669",
        "colab": {
          "base_uri": "https://localhost:8080/"
        }
      },
      "source": [
        "df[:5]"
      ],
      "execution_count": 6,
      "outputs": [
        {
          "output_type": "execute_result",
          "data": {
            "text/plain": [
              "array([112, 118, 132, 129, 121])"
            ]
          },
          "metadata": {
            "tags": []
          },
          "execution_count": 6
        }
      ]
    },
    {
      "cell_type": "code",
      "metadata": {
        "id": "mrBU35_7EEiS",
        "outputId": "5b39bb7a-248a-4148-a8f3-db4fffa2c8fb",
        "colab": {
          "base_uri": "https://localhost:8080/"
        }
      },
      "source": [
        "from sklearn.preprocessing import MinMaxScaler\n",
        "scaler = MinMaxScaler(feature_range=(0,1))\n",
        "df_norm = scaler.fit_transform(df[:,np.newaxis])\n",
        "print(df_norm[:5])"
      ],
      "execution_count": 12,
      "outputs": [
        {
          "output_type": "stream",
          "text": [
            "[[0.01544402]\n",
            " [0.02702703]\n",
            " [0.05405405]\n",
            " [0.04826255]\n",
            " [0.03281853]]\n"
          ],
          "name": "stdout"
        }
      ]
    },
    {
      "cell_type": "code",
      "metadata": {
        "id": "gqOXaYPGETxJ",
        "outputId": "018fc059-a497-4066-9332-d0e2d980144d",
        "colab": {
          "base_uri": "https://localhost:8080/"
        }
      },
      "source": [
        "df_norm = df_norm.reshape(-1)\n",
        "print(df_norm.shape)"
      ],
      "execution_count": 13,
      "outputs": [
        {
          "output_type": "stream",
          "text": [
            "(144,)\n"
          ],
          "name": "stdout"
        }
      ]
    },
    {
      "cell_type": "code",
      "metadata": {
        "id": "ggEHB24pBpQv"
      },
      "source": [
        "delay = 10\n",
        "def prepare_data(data,delay):\n",
        "  X = []\n",
        "  Y = []\n",
        "  for i in range(len(data)-delay-1):\n",
        "    window = data[i:i+delay]\n",
        "    X.append(window)\n",
        "    Y.append(data[i+delay])\n",
        "  return np.array(X), np.array(Y)"
      ],
      "execution_count": 7,
      "outputs": []
    },
    {
      "cell_type": "code",
      "metadata": {
        "id": "LVM6DJxzC5BB",
        "outputId": "6131dcc7-cc31-4ebf-b43d-6ed76a9e09a3",
        "colab": {
          "base_uri": "https://localhost:8080/"
        }
      },
      "source": [
        "X,Y = prepare_data(df_norm,delay)\n",
        "print(X.shape,Y.shape)"
      ],
      "execution_count": 14,
      "outputs": [
        {
          "output_type": "stream",
          "text": [
            "(133, 10) (133,)\n"
          ],
          "name": "stdout"
        }
      ]
    },
    {
      "cell_type": "code",
      "metadata": {
        "id": "ZGXiHPBJDsV-",
        "outputId": "16f641e8-ff81-4eca-f4c7-29539fb4b2dc",
        "colab": {
          "base_uri": "https://localhost:8080/"
        }
      },
      "source": [
        "print(X[:3],Y[:3])"
      ],
      "execution_count": 15,
      "outputs": [
        {
          "output_type": "stream",
          "text": [
            "[[0.01544402 0.02702703 0.05405405 0.04826255 0.03281853 0.05984556\n",
            "  0.08494208 0.08494208 0.06177606 0.02895753]\n",
            " [0.02702703 0.05405405 0.04826255 0.03281853 0.05984556 0.08494208\n",
            "  0.08494208 0.06177606 0.02895753 0.        ]\n",
            " [0.05405405 0.04826255 0.03281853 0.05984556 0.08494208 0.08494208\n",
            "  0.06177606 0.02895753 0.         0.02702703]] [0.         0.02702703 0.02123552]\n"
          ],
          "name": "stdout"
        }
      ]
    },
    {
      "cell_type": "code",
      "metadata": {
        "id": "Ph4JezQDDAdt",
        "outputId": "3a3c1bf5-a0dc-4676-e115-30e48d8ad984",
        "colab": {
          "base_uri": "https://localhost:8080/"
        }
      },
      "source": [
        "X_train, X_test = X[0:100,:], X[100:,:]\n",
        "Y_train, Y_test = Y[0:100], Y[100:]\n",
        "print(X_train.shape,X_test.shape,Y_train.shape,Y_test.shape)"
      ],
      "execution_count": 16,
      "outputs": [
        {
          "output_type": "stream",
          "text": [
            "(100, 10) (33, 10) (100,) (33,)\n"
          ],
          "name": "stdout"
        }
      ]
    },
    {
      "cell_type": "code",
      "metadata": {
        "id": "wuLXkwuyIkQ0"
      },
      "source": [
        "X_train_f = []\n",
        "for x in X_train:\n",
        "  X_train_f.append(x.reshape((len(x),1)))\n",
        "X_train_f = np.array(X_train_f)"
      ],
      "execution_count": 43,
      "outputs": []
    },
    {
      "cell_type": "code",
      "metadata": {
        "id": "0EI6N7B9JFjN"
      },
      "source": [
        "X_test_f = []\n",
        "for x in X_test:\n",
        "  X_test_f.append(x.reshape((len(x),1)))\n",
        "X_test_f = np.array(X_test_f)"
      ],
      "execution_count": 44,
      "outputs": []
    },
    {
      "cell_type": "code",
      "metadata": {
        "id": "yAKMSpREJPTD",
        "outputId": "56197ca6-5aeb-4f57-e441-96f8250df8dc",
        "colab": {
          "base_uri": "https://localhost:8080/"
        }
      },
      "source": [
        "print(X_train_f.shape,X_test_f.shape)"
      ],
      "execution_count": 45,
      "outputs": [
        {
          "output_type": "stream",
          "text": [
            "(100, 10, 1) (33, 10, 1)\n"
          ],
          "name": "stdout"
        }
      ]
    },
    {
      "cell_type": "code",
      "metadata": {
        "id": "9QMebPkADUtb"
      },
      "source": [
        "import tensorflow\n",
        "from tensorflow.keras.models import Sequential\n",
        "from tensorflow.keras import layers"
      ],
      "execution_count": 10,
      "outputs": []
    },
    {
      "cell_type": "code",
      "metadata": {
        "id": "n91CtuZ1Dj3r"
      },
      "source": [
        "model = Sequential()\n",
        "model.add(layers.LSTM(50,input_shape=(delay,1),return_sequences=True))\n",
        "model.add(layers.LSTM(50))\n",
        "model.add(layers.Dense(32))\n",
        "model.add(layers.Dense(1))\n",
        "model.compile(optimizer='adam',loss='mse')"
      ],
      "execution_count": 79,
      "outputs": []
    },
    {
      "cell_type": "code",
      "metadata": {
        "id": "vkZ0aOF_Fy45",
        "outputId": "da29e6a0-76cf-4f5d-b086-69ac03a2a572",
        "colab": {
          "base_uri": "https://localhost:8080/"
        }
      },
      "source": [
        "model.summary()"
      ],
      "execution_count": 80,
      "outputs": [
        {
          "output_type": "stream",
          "text": [
            "Model: \"sequential_2\"\n",
            "_________________________________________________________________\n",
            "Layer (type)                 Output Shape              Param #   \n",
            "=================================================================\n",
            "lstm_2 (LSTM)                (None, 10, 50)            10400     \n",
            "_________________________________________________________________\n",
            "lstm_3 (LSTM)                (None, 50)                20200     \n",
            "_________________________________________________________________\n",
            "dense_4 (Dense)              (None, 32)                1632      \n",
            "_________________________________________________________________\n",
            "dense_5 (Dense)              (None, 1)                 33        \n",
            "=================================================================\n",
            "Total params: 32,265\n",
            "Trainable params: 32,265\n",
            "Non-trainable params: 0\n",
            "_________________________________________________________________\n"
          ],
          "name": "stdout"
        }
      ]
    },
    {
      "cell_type": "code",
      "metadata": {
        "id": "QkW3DWVTGfQz",
        "outputId": "5d61080a-e117-4496-fa15-7aded0263c3e",
        "colab": {
          "base_uri": "https://localhost:8080/"
        }
      },
      "source": [
        "Y_train.shape"
      ],
      "execution_count": 81,
      "outputs": [
        {
          "output_type": "execute_result",
          "data": {
            "text/plain": [
              "(100,)"
            ]
          },
          "metadata": {
            "tags": []
          },
          "execution_count": 81
        }
      ]
    },
    {
      "cell_type": "code",
      "metadata": {
        "id": "IIFulmb_F0KL",
        "outputId": "4a90559d-b572-473c-f211-39d85bb0efd3",
        "colab": {
          "base_uri": "https://localhost:8080/"
        }
      },
      "source": [
        "H = model.fit(X_train_f,Y_train,epochs=100,batch_size=5,validation_data=(X_test_f,Y_test))"
      ],
      "execution_count": 82,
      "outputs": [
        {
          "output_type": "stream",
          "text": [
            "Epoch 1/100\n",
            "20/20 [==============================] - 1s 51ms/step - loss: 0.0273 - val_loss: 0.0540\n",
            "Epoch 2/100\n",
            "20/20 [==============================] - 0s 7ms/step - loss: 0.0086 - val_loss: 0.0261\n",
            "Epoch 3/100\n",
            "20/20 [==============================] - 0s 8ms/step - loss: 0.0089 - val_loss: 0.0255\n",
            "Epoch 4/100\n",
            "20/20 [==============================] - 0s 8ms/step - loss: 0.0080 - val_loss: 0.0275\n",
            "Epoch 5/100\n",
            "20/20 [==============================] - 0s 8ms/step - loss: 0.0082 - val_loss: 0.0325\n",
            "Epoch 6/100\n",
            "20/20 [==============================] - 0s 7ms/step - loss: 0.0070 - val_loss: 0.0254\n",
            "Epoch 7/100\n",
            "20/20 [==============================] - 0s 8ms/step - loss: 0.0081 - val_loss: 0.0250\n",
            "Epoch 8/100\n",
            "20/20 [==============================] - 0s 9ms/step - loss: 0.0078 - val_loss: 0.0256\n",
            "Epoch 9/100\n",
            "20/20 [==============================] - 0s 9ms/step - loss: 0.0071 - val_loss: 0.0291\n",
            "Epoch 10/100\n",
            "20/20 [==============================] - 0s 8ms/step - loss: 0.0074 - val_loss: 0.0244\n",
            "Epoch 11/100\n",
            "20/20 [==============================] - 0s 8ms/step - loss: 0.0073 - val_loss: 0.0240\n",
            "Epoch 12/100\n",
            "20/20 [==============================] - 0s 8ms/step - loss: 0.0079 - val_loss: 0.0260\n",
            "Epoch 13/100\n",
            "20/20 [==============================] - 0s 8ms/step - loss: 0.0070 - val_loss: 0.0356\n",
            "Epoch 14/100\n",
            "20/20 [==============================] - 0s 8ms/step - loss: 0.0071 - val_loss: 0.0364\n",
            "Epoch 15/100\n",
            "20/20 [==============================] - 0s 8ms/step - loss: 0.0081 - val_loss: 0.0296\n",
            "Epoch 16/100\n",
            "20/20 [==============================] - 0s 8ms/step - loss: 0.0076 - val_loss: 0.0222\n",
            "Epoch 17/100\n",
            "20/20 [==============================] - 0s 8ms/step - loss: 0.0062 - val_loss: 0.0254\n",
            "Epoch 18/100\n",
            "20/20 [==============================] - 0s 8ms/step - loss: 0.0063 - val_loss: 0.0288\n",
            "Epoch 19/100\n",
            "20/20 [==============================] - 0s 8ms/step - loss: 0.0065 - val_loss: 0.0330\n",
            "Epoch 20/100\n",
            "20/20 [==============================] - 0s 8ms/step - loss: 0.0061 - val_loss: 0.0244\n",
            "Epoch 21/100\n",
            "20/20 [==============================] - 0s 8ms/step - loss: 0.0063 - val_loss: 0.0218\n",
            "Epoch 22/100\n",
            "20/20 [==============================] - 0s 8ms/step - loss: 0.0061 - val_loss: 0.0231\n",
            "Epoch 23/100\n",
            "20/20 [==============================] - 0s 8ms/step - loss: 0.0059 - val_loss: 0.0211\n",
            "Epoch 24/100\n",
            "20/20 [==============================] - 0s 8ms/step - loss: 0.0049 - val_loss: 0.0159\n",
            "Epoch 25/100\n",
            "20/20 [==============================] - 0s 8ms/step - loss: 0.0056 - val_loss: 0.0186\n",
            "Epoch 26/100\n",
            "20/20 [==============================] - 0s 8ms/step - loss: 0.0047 - val_loss: 0.0127\n",
            "Epoch 27/100\n",
            "20/20 [==============================] - 0s 8ms/step - loss: 0.0050 - val_loss: 0.0113\n",
            "Epoch 28/100\n",
            "20/20 [==============================] - 0s 8ms/step - loss: 0.0042 - val_loss: 0.0150\n",
            "Epoch 29/100\n",
            "20/20 [==============================] - 0s 8ms/step - loss: 0.0030 - val_loss: 0.0088\n",
            "Epoch 30/100\n",
            "20/20 [==============================] - 0s 8ms/step - loss: 0.0036 - val_loss: 0.0081\n",
            "Epoch 31/100\n",
            "20/20 [==============================] - 0s 8ms/step - loss: 0.0030 - val_loss: 0.0174\n",
            "Epoch 32/100\n",
            "20/20 [==============================] - 0s 9ms/step - loss: 0.0030 - val_loss: 0.0097\n",
            "Epoch 33/100\n",
            "20/20 [==============================] - 0s 8ms/step - loss: 0.0030 - val_loss: 0.0207\n",
            "Epoch 34/100\n",
            "20/20 [==============================] - 0s 8ms/step - loss: 0.0034 - val_loss: 0.0143\n",
            "Epoch 35/100\n",
            "20/20 [==============================] - 0s 8ms/step - loss: 0.0027 - val_loss: 0.0185\n",
            "Epoch 36/100\n",
            "20/20 [==============================] - 0s 8ms/step - loss: 0.0025 - val_loss: 0.0071\n",
            "Epoch 37/100\n",
            "20/20 [==============================] - 0s 8ms/step - loss: 0.0029 - val_loss: 0.0099\n",
            "Epoch 38/100\n",
            "20/20 [==============================] - 0s 8ms/step - loss: 0.0029 - val_loss: 0.0082\n",
            "Epoch 39/100\n",
            "20/20 [==============================] - 0s 9ms/step - loss: 0.0027 - val_loss: 0.0138\n",
            "Epoch 40/100\n",
            "20/20 [==============================] - 0s 8ms/step - loss: 0.0028 - val_loss: 0.0083\n",
            "Epoch 41/100\n",
            "20/20 [==============================] - 0s 8ms/step - loss: 0.0025 - val_loss: 0.0065\n",
            "Epoch 42/100\n",
            "20/20 [==============================] - 0s 8ms/step - loss: 0.0024 - val_loss: 0.0086\n",
            "Epoch 43/100\n",
            "20/20 [==============================] - 0s 8ms/step - loss: 0.0024 - val_loss: 0.0069\n",
            "Epoch 44/100\n",
            "20/20 [==============================] - 0s 8ms/step - loss: 0.0025 - val_loss: 0.0060\n",
            "Epoch 45/100\n",
            "20/20 [==============================] - 0s 8ms/step - loss: 0.0026 - val_loss: 0.0063\n",
            "Epoch 46/100\n",
            "20/20 [==============================] - 0s 8ms/step - loss: 0.0022 - val_loss: 0.0106\n",
            "Epoch 47/100\n",
            "20/20 [==============================] - 0s 8ms/step - loss: 0.0023 - val_loss: 0.0060\n",
            "Epoch 48/100\n",
            "20/20 [==============================] - 0s 8ms/step - loss: 0.0025 - val_loss: 0.0059\n",
            "Epoch 49/100\n",
            "20/20 [==============================] - 0s 8ms/step - loss: 0.0021 - val_loss: 0.0062\n",
            "Epoch 50/100\n",
            "20/20 [==============================] - 0s 8ms/step - loss: 0.0019 - val_loss: 0.0059\n",
            "Epoch 51/100\n",
            "20/20 [==============================] - 0s 9ms/step - loss: 0.0026 - val_loss: 0.0065\n",
            "Epoch 52/100\n",
            "20/20 [==============================] - 0s 8ms/step - loss: 0.0025 - val_loss: 0.0059\n",
            "Epoch 53/100\n",
            "20/20 [==============================] - 0s 8ms/step - loss: 0.0020 - val_loss: 0.0076\n",
            "Epoch 54/100\n",
            "20/20 [==============================] - 0s 8ms/step - loss: 0.0023 - val_loss: 0.0071\n",
            "Epoch 55/100\n",
            "20/20 [==============================] - 0s 8ms/step - loss: 0.0022 - val_loss: 0.0080\n",
            "Epoch 56/100\n",
            "20/20 [==============================] - 0s 8ms/step - loss: 0.0021 - val_loss: 0.0079\n",
            "Epoch 57/100\n",
            "20/20 [==============================] - 0s 9ms/step - loss: 0.0024 - val_loss: 0.0103\n",
            "Epoch 58/100\n",
            "20/20 [==============================] - 0s 8ms/step - loss: 0.0020 - val_loss: 0.0106\n",
            "Epoch 59/100\n",
            "20/20 [==============================] - 0s 8ms/step - loss: 0.0024 - val_loss: 0.0091\n",
            "Epoch 60/100\n",
            "20/20 [==============================] - 0s 8ms/step - loss: 0.0019 - val_loss: 0.0061\n",
            "Epoch 61/100\n",
            "20/20 [==============================] - 0s 8ms/step - loss: 0.0019 - val_loss: 0.0059\n",
            "Epoch 62/100\n",
            "20/20 [==============================] - 0s 8ms/step - loss: 0.0020 - val_loss: 0.0063\n",
            "Epoch 63/100\n",
            "20/20 [==============================] - 0s 8ms/step - loss: 0.0019 - val_loss: 0.0059\n",
            "Epoch 64/100\n",
            "20/20 [==============================] - 0s 8ms/step - loss: 0.0018 - val_loss: 0.0091\n",
            "Epoch 65/100\n",
            "20/20 [==============================] - 0s 8ms/step - loss: 0.0019 - val_loss: 0.0065\n",
            "Epoch 66/100\n",
            "20/20 [==============================] - 0s 8ms/step - loss: 0.0019 - val_loss: 0.0068\n",
            "Epoch 67/100\n",
            "20/20 [==============================] - 0s 8ms/step - loss: 0.0018 - val_loss: 0.0065\n",
            "Epoch 68/100\n",
            "20/20 [==============================] - 0s 9ms/step - loss: 0.0018 - val_loss: 0.0068\n",
            "Epoch 69/100\n",
            "20/20 [==============================] - 0s 8ms/step - loss: 0.0019 - val_loss: 0.0061\n",
            "Epoch 70/100\n",
            "20/20 [==============================] - 0s 8ms/step - loss: 0.0021 - val_loss: 0.0086\n",
            "Epoch 71/100\n",
            "20/20 [==============================] - 0s 8ms/step - loss: 0.0022 - val_loss: 0.0111\n",
            "Epoch 72/100\n",
            "20/20 [==============================] - 0s 8ms/step - loss: 0.0024 - val_loss: 0.0080\n",
            "Epoch 73/100\n",
            "20/20 [==============================] - 0s 8ms/step - loss: 0.0021 - val_loss: 0.0101\n",
            "Epoch 74/100\n",
            "20/20 [==============================] - 0s 8ms/step - loss: 0.0019 - val_loss: 0.0064\n",
            "Epoch 75/100\n",
            "20/20 [==============================] - 0s 8ms/step - loss: 0.0018 - val_loss: 0.0084\n",
            "Epoch 76/100\n",
            "20/20 [==============================] - 0s 8ms/step - loss: 0.0019 - val_loss: 0.0059\n",
            "Epoch 77/100\n",
            "20/20 [==============================] - 0s 8ms/step - loss: 0.0016 - val_loss: 0.0059\n",
            "Epoch 78/100\n",
            "20/20 [==============================] - 0s 9ms/step - loss: 0.0023 - val_loss: 0.0056\n",
            "Epoch 79/100\n",
            "20/20 [==============================] - 0s 8ms/step - loss: 0.0018 - val_loss: 0.0137\n",
            "Epoch 80/100\n",
            "20/20 [==============================] - 0s 9ms/step - loss: 0.0022 - val_loss: 0.0080\n",
            "Epoch 81/100\n",
            "20/20 [==============================] - 0s 8ms/step - loss: 0.0018 - val_loss: 0.0096\n",
            "Epoch 82/100\n",
            "20/20 [==============================] - 0s 8ms/step - loss: 0.0017 - val_loss: 0.0062\n",
            "Epoch 83/100\n",
            "20/20 [==============================] - 0s 8ms/step - loss: 0.0017 - val_loss: 0.0116\n",
            "Epoch 84/100\n",
            "20/20 [==============================] - 0s 8ms/step - loss: 0.0020 - val_loss: 0.0092\n",
            "Epoch 85/100\n",
            "20/20 [==============================] - 0s 8ms/step - loss: 0.0019 - val_loss: 0.0065\n",
            "Epoch 86/100\n",
            "20/20 [==============================] - 0s 8ms/step - loss: 0.0020 - val_loss: 0.0057\n",
            "Epoch 87/100\n",
            "20/20 [==============================] - 0s 8ms/step - loss: 0.0018 - val_loss: 0.0055\n",
            "Epoch 88/100\n",
            "20/20 [==============================] - 0s 8ms/step - loss: 0.0017 - val_loss: 0.0059\n",
            "Epoch 89/100\n",
            "20/20 [==============================] - 0s 8ms/step - loss: 0.0016 - val_loss: 0.0059\n",
            "Epoch 90/100\n",
            "20/20 [==============================] - 0s 9ms/step - loss: 0.0018 - val_loss: 0.0104\n",
            "Epoch 91/100\n",
            "20/20 [==============================] - 0s 8ms/step - loss: 0.0019 - val_loss: 0.0073\n",
            "Epoch 92/100\n",
            "20/20 [==============================] - 0s 8ms/step - loss: 0.0017 - val_loss: 0.0061\n",
            "Epoch 93/100\n",
            "20/20 [==============================] - 0s 8ms/step - loss: 0.0017 - val_loss: 0.0054\n",
            "Epoch 94/100\n",
            "20/20 [==============================] - 0s 8ms/step - loss: 0.0017 - val_loss: 0.0052\n",
            "Epoch 95/100\n",
            "20/20 [==============================] - 0s 8ms/step - loss: 0.0015 - val_loss: 0.0058\n",
            "Epoch 96/100\n",
            "20/20 [==============================] - 0s 8ms/step - loss: 0.0018 - val_loss: 0.0047\n",
            "Epoch 97/100\n",
            "20/20 [==============================] - 0s 8ms/step - loss: 0.0017 - val_loss: 0.0058\n",
            "Epoch 98/100\n",
            "20/20 [==============================] - 0s 8ms/step - loss: 0.0019 - val_loss: 0.0056\n",
            "Epoch 99/100\n",
            "20/20 [==============================] - 0s 8ms/step - loss: 0.0017 - val_loss: 0.0053\n",
            "Epoch 100/100\n",
            "20/20 [==============================] - 0s 9ms/step - loss: 0.0017 - val_loss: 0.0054\n"
          ],
          "name": "stdout"
        }
      ]
    },
    {
      "cell_type": "code",
      "metadata": {
        "id": "E17dSer2KYj0"
      },
      "source": [
        "from sklearn.metrics import mean_squared_error\n",
        "import math"
      ],
      "execution_count": 55,
      "outputs": []
    },
    {
      "cell_type": "code",
      "metadata": {
        "id": "Atef1jqkH2Jl"
      },
      "source": [
        "trainPredict = model.predict(X_train_f)\n",
        "testPredict = model.predict(X_test_f)"
      ],
      "execution_count": 93,
      "outputs": []
    },
    {
      "cell_type": "code",
      "metadata": {
        "id": "fOXHG8yjJ68J",
        "outputId": "96a66d8c-3db1-4317-9102-bc65566d6874",
        "colab": {
          "base_uri": "https://localhost:8080/"
        }
      },
      "source": [
        "print(trainPredict.shape,Y_train.shape)"
      ],
      "execution_count": 94,
      "outputs": [
        {
          "output_type": "stream",
          "text": [
            "(100, 1) (100,)\n"
          ],
          "name": "stdout"
        }
      ]
    },
    {
      "cell_type": "code",
      "metadata": {
        "id": "dY4gC7aXJ96O"
      },
      "source": [
        "trainPredict = scaler.inverse_transform(trainPredict)\n",
        "testPredict = scaler.inverse_transform(testPredict)\n",
        "Y_train_inv = scaler.inverse_transform(Y_train[:,np.newaxis])\n",
        "Y_test_inv = scaler.inverse_transform(Y_test[:,np.newaxis])"
      ],
      "execution_count": 95,
      "outputs": []
    },
    {
      "cell_type": "code",
      "metadata": {
        "id": "Fa8xKOLeKXGQ",
        "outputId": "7dca70c1-81be-495b-f0e9-91a1ae332484",
        "colab": {
          "base_uri": "https://localhost:8080/"
        }
      },
      "source": [
        "print(trainPredict.shape,Y_train_inv.shape)"
      ],
      "execution_count": 96,
      "outputs": [
        {
          "output_type": "stream",
          "text": [
            "(100, 1) (100, 1)\n"
          ],
          "name": "stdout"
        }
      ]
    },
    {
      "cell_type": "code",
      "metadata": {
        "id": "H5AQrqEzKCkq",
        "outputId": "3ca3baea-09af-4338-fbe9-08b5b18956fa",
        "colab": {
          "base_uri": "https://localhost:8080/"
        }
      },
      "source": [
        "trainScore = math.sqrt(mean_squared_error(Y_train_inv.reshape(-1),trainPredict.reshape(-1)))\n",
        "testScore = math.sqrt(mean_squared_error(Y_test_inv.reshape(-1),testPredict.reshape(-1)))\n",
        "print(trainScore,testScore)"
      ],
      "execution_count": 97,
      "outputs": [
        {
          "output_type": "stream",
          "text": [
            "19.648014524671257 38.20287322362029\n"
          ],
          "name": "stdout"
        }
      ]
    },
    {
      "cell_type": "code",
      "metadata": {
        "id": "m9VHbTtPKgWx",
        "outputId": "9f34fdc2-058b-4f1b-8892-076c281ec02d",
        "colab": {
          "base_uri": "https://localhost:8080/"
        }
      },
      "source": [
        "Y_train_inv[:5]"
      ],
      "execution_count": 90,
      "outputs": [
        {
          "output_type": "execute_result",
          "data": {
            "text/plain": [
              "array([[104.],\n",
              "       [118.],\n",
              "       [115.],\n",
              "       [126.],\n",
              "       [141.]])"
            ]
          },
          "metadata": {
            "tags": []
          },
          "execution_count": 90
        }
      ]
    },
    {
      "cell_type": "code",
      "metadata": {
        "id": "2CAr3mPJKpzb",
        "outputId": "14aa838d-b386-47fa-bc83-3c459ff3d9c9",
        "colab": {
          "base_uri": "https://localhost:8080/"
        }
      },
      "source": [
        "trainPredict[:5]"
      ],
      "execution_count": 91,
      "outputs": [
        {
          "output_type": "execute_result",
          "data": {
            "text/plain": [
              "array([[110.72614],\n",
              "       [100.8102 ],\n",
              "       [113.24766],\n",
              "       [113.14335],\n",
              "       [122.90743]], dtype=float32)"
            ]
          },
          "metadata": {
            "tags": []
          },
          "execution_count": 91
        }
      ]
    },
    {
      "cell_type": "code",
      "metadata": {
        "id": "EQiaGOgEWOoc"
      },
      "source": [
        "plt.style.use(\"dark_background\")"
      ],
      "execution_count": 106,
      "outputs": []
    },
    {
      "cell_type": "code",
      "metadata": {
        "id": "1SPnpP3PLWat",
        "outputId": "36a74fc2-4d52-4f1d-bfa7-0ffb9ff0b170",
        "colab": {
          "base_uri": "https://localhost:8080/",
          "height": 637
        }
      },
      "source": [
        "plt.figure(figsize=(10,10))\n",
        "trueData = np.concatenate((Y_train_inv.reshape(-1),Y_test_inv.reshape(-1)),axis=0)\n",
        "predData = np.concatenate((trainPredict.reshape(-1),testPredict.reshape(-1)),axis=0)\n",
        "plt.plot(trueData, label='True Passengers')\n",
        "#plt.plot(Y_test_inv.reshape(-1), label = 'True Test Data')\n",
        "plt.plot(predData, label = 'Predicted Passengers')\n",
        "#plt.plot(testPredict.reshape(-1), label = 'Pred Test Data')\n",
        "plt.xticks(ticks=a,labels=list(passengers[a]),rotation='vertical')\n",
        "plt.xlabel('Date')\n",
        "plt.ylabel('No. of Passengers')\n",
        "plt.legend()\n",
        "plt.show()"
      ],
      "execution_count": 136,
      "outputs": [
        {
          "output_type": "display_data",
          "data": {
            "image/png": "[encoded data removed]",
            "text/plain": [
              "<Figure size 720x720 with 1 Axes>"
            ]
          },
          "metadata": {
            "tags": []
          }
        }
      ]
    },
    {
      "cell_type": "code",
      "metadata": {
        "id": "6VbrphiORjos"
      },
      "source": [
        "trueData = np.concatenate((Y_train_inv.reshape(-1),Y_test_inv.reshape(-1)),axis=0)"
      ],
      "execution_count": 103,
      "outputs": []
    },
    {
      "cell_type": "code",
      "metadata": {
        "id": "2V5XC_i3SojQ",
        "outputId": "0b308aa6-bb42-4ba2-9a0f-025fb134e122",
        "colab": {
          "base_uri": "https://localhost:8080/"
        }
      },
      "source": [
        "trueData.shape"
      ],
      "execution_count": 104,
      "outputs": [
        {
          "output_type": "execute_result",
          "data": {
            "text/plain": [
              "(133,)"
            ]
          },
          "metadata": {
            "tags": []
          },
          "execution_count": 104
        }
      ]
    },
    {
      "cell_type": "code",
      "metadata": {
        "id": "ECp4PRS9Sp9m"
      },
      "source": [
        "passengers = pd.read_csv('AirPassengers.csv',usecols=[0]).values"
      ],
      "execution_count": 120,
      "outputs": []
    },
    {
      "cell_type": "code",
      "metadata": {
        "id": "kfvRjBTCWiaU",
        "outputId": "50061849-45b4-4d15-e370-5353d52fe37d",
        "colab": {
          "base_uri": "https://localhost:8080/"
        }
      },
      "source": [
        "len(passengers)"
      ],
      "execution_count": 121,
      "outputs": [
        {
          "output_type": "execute_result",
          "data": {
            "text/plain": [
              "144"
            ]
          },
          "metadata": {
            "tags": []
          },
          "execution_count": 121
        }
      ]
    },
    {
      "cell_type": "code",
      "metadata": {
        "id": "mqxenTrSWkUm"
      },
      "source": [
        "passengers = passengers[:len(passengers)-delay-1]"
      ],
      "execution_count": 122,
      "outputs": []
    },
    {
      "cell_type": "code",
      "metadata": {
        "id": "jgQyD5o2WtVy",
        "outputId": "12a81bc8-8fd0-4f6a-e9ca-6b1d54de506b",
        "colab": {
          "base_uri": "https://localhost:8080/"
        }
      },
      "source": [
        "len(passengers)"
      ],
      "execution_count": 123,
      "outputs": [
        {
          "output_type": "execute_result",
          "data": {
            "text/plain": [
              "133"
            ]
          },
          "metadata": {
            "tags": []
          },
          "execution_count": 123
        }
      ]
    },
    {
      "cell_type": "code",
      "metadata": {
        "id": "cBnY3D32Wu4M"
      },
      "source": [
        "passengers = passengers.reshape(-1)"
      ],
      "execution_count": 125,
      "outputs": []
    },
    {
      "cell_type": "code",
      "metadata": {
        "id": "GkmMORpGXJEl",
        "outputId": "3c7b0aeb-ef6a-4694-8d1f-50c612e630c5",
        "colab": {
          "base_uri": "https://localhost:8080/"
        }
      },
      "source": [
        "passengers[:5]"
      ],
      "execution_count": 126,
      "outputs": [
        {
          "output_type": "execute_result",
          "data": {
            "text/plain": [
              "array(['1949-01', '1949-02', '1949-03', '1949-04', '1949-05'],\n",
              "      dtype=object)"
            ]
          },
          "metadata": {
            "tags": []
          },
          "execution_count": 126
        }
      ]
    },
    {
      "cell_type": "code",
      "metadata": {
        "id": "j5giFNw3XQTQ"
      },
      "source": [
        "a = np.arange(0,133,20)"
      ],
      "execution_count": 132,
      "outputs": []
    },
    {
      "cell_type": "code",
      "metadata": {
        "id": "mL1yKT57YyXW",
        "outputId": "290cd021-4136-4a77-ca60-1d00628aa59a",
        "colab": {
          "base_uri": "https://localhost:8080/"
        }
      },
      "source": [
        "a"
      ],
      "execution_count": 133,
      "outputs": [
        {
          "output_type": "execute_result",
          "data": {
            "text/plain": [
              "array([  0,  20,  40,  60,  80, 100, 120])"
            ]
          },
          "metadata": {
            "tags": []
          },
          "execution_count": 133
        }
      ]
    },
    {
      "cell_type": "code",
      "metadata": {
        "id": "9vehX8DMYy-6",
        "outputId": "44c7deb8-8336-49bd-a01b-a673346801d1",
        "colab": {
          "base_uri": "https://localhost:8080/"
        }
      },
      "source": [
        "passengers[a]"
      ],
      "execution_count": 134,
      "outputs": [
        {
          "output_type": "execute_result",
          "data": {
            "text/plain": [
              "array(['1949-01', '1950-09', '1952-05', '1954-01', '1955-09', '1957-05',\n",
              "       '1959-01'], dtype=object)"
            ]
          },
          "metadata": {
            "tags": []
          },
          "execution_count": 134
        }
      ]
    },
    {
      "cell_type": "code",
      "metadata": {
        "id": "VFLU--wlY1iB"
      },
      "source": [
        ""
      ],
      "execution_count": null,
      "outputs": []
    }
  ]
}